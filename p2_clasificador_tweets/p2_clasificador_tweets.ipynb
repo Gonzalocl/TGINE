{
 "cells": [
  {
   "cell_type": "code",
   "execution_count": null,
   "metadata": {
    "collapsed": true
   },
   "outputs": [],
   "source": [
    "import os\n",
    "import time\n",
    "import json\n",
    "import datetime\n",
    "import tweepy"
   ]
  },
  {
   "cell_type": "code",
   "execution_count": null,
   "outputs": [],
   "source": [
    "similar_users = [\"\", \"\"]\n",
    "different_users = [\"\", \"\"]\n",
    "\n",
    "twitter_api_key = \"\"\n",
    "twitter_api_secret = \"\"\n",
    "\n",
    "collections_dir = \"collections\"\n",
    "max_pages = 100\n",
    "max_page_fail_retries = 3\n",
    "max_consecutive_pages_failed = 3\n",
    "request_wait = 1\n",
    "page_fail_wait = 30"
   ],
   "metadata": {
    "collapsed": false,
    "pycharm": {
     "name": "#%%\n"
    }
   }
  },
  {
   "cell_type": "code",
   "execution_count": null,
   "outputs": [],
   "source": [
    "tweet_attributes = [\n",
    "    \"display_text_range\",\n",
    "    \"entities\",\n",
    "    \"favorite_count\",\n",
    "    \"full_text\",\n",
    "    \"id\",\n",
    "    \"retweet_count\",\n",
    "    \"truncated\"\n",
    "]\n",
    "\n",
    "def copy_attributes(dest, src, attributes):\n",
    "    for attribute in attributes:\n",
    "        try:\n",
    "            dest[attribute] = src[attribute]\n",
    "        except KeyError:\n",
    "            i = None\n",
    "            try:\n",
    "                i = src[\"id\"]\n",
    "            except KeyError:\n",
    "                pass\n",
    "            print(\"KeyError: {}, {}\".format(attribute, i))\n",
    "\n",
    "def copy_tweet(tweet):\n",
    "    dest = {}\n",
    "    copy_attributes(dest, vars(tweet), tweet_attributes)\n",
    "    dest[\"author_screen_name\"] = tweet.author.screen_name\n",
    "    dest[\"created_at_timestamp\"] = tweet.created_at.timestamp()\n",
    "    dest[\"retweeted_status\"] = hasattr(tweet, \"retweeted_status\")\n",
    "    if hasattr(tweet, \"extended_entities\"):\n",
    "        dest[\"extended_entities\"] = tweet.extended_entities\n",
    "    return dest"
   ],
   "metadata": {
    "collapsed": false,
    "pycharm": {
     "name": "#%%\n"
    }
   }
  },
  {
   "cell_type": "code",
   "execution_count": null,
   "outputs": [],
   "source": [
    "def retrieve_comments(twitter_client, name):\n",
    "\n",
    "    tweets = []\n",
    "    page = 1\n",
    "    page_fail_retries = 0\n",
    "    consecutive_pages_failed = 0\n",
    "\n",
    "    print(\"Retrieving {}\".format(name))\n",
    "\n",
    "    while page < max_pages and consecutive_pages_failed < max_consecutive_pages_failed:\n",
    "\n",
    "        statuses = twitter_client.user_timeline(id=name, tweet_mode=\"extended\", page=page)\n",
    "\n",
    "        if statuses:\n",
    "            for status in statuses:\n",
    "                tweets.append(copy_tweet(status))\n",
    "\n",
    "            page += 1\n",
    "            page_fail_retries = 0\n",
    "            consecutive_pages_failed = 0\n",
    "\n",
    "            print(\"Retrieved Tweets: {} (Pages: {}/{})\".format(len(tweets), page, max_pages), end=\"\\r\")\n",
    "            time.sleep(request_wait)\n",
    "\n",
    "        else:\n",
    "\n",
    "            if page_fail_retries < max_page_fail_retries:\n",
    "                page_fail_retries += 1\n",
    "\n",
    "                print(\"Failed to retrieve page {} attempts {}/{}\".format(page, page_fail_retries, max_page_fail_retries))\n",
    "                print(\"Sleeping {} seconds\".format(page_fail_wait))\n",
    "                print(\"Retrieved Tweets: {} (Pages: {}/{})\".format(len(tweets), page, max_pages), end=\"\\r\")\n",
    "\n",
    "            else:\n",
    "                consecutive_pages_failed += 1\n",
    "\n",
    "                print(\"Failed to retrieve page {} attempts {}/{}\".format(page, max_page_fail_retries, max_page_fail_retries))\n",
    "                print(\"{} consecutive failed attempts on page {}, skipping page {}, ( Consecutive pages failed {}/{})\".format(\n",
    "                    max_page_fail_retries,\n",
    "                    page, page,\n",
    "                    consecutive_pages_failed,\n",
    "                    max_consecutive_pages_failed))\n",
    "                print(\"Sleeping {} seconds\".format(page_fail_wait))\n",
    "                print(\"Retrieved Tweets: {} (Pages: {}/{})\".format(len(tweets), page, max_pages), end=\"\\r\")\n",
    "\n",
    "                page += 1\n",
    "                page_fail_retries = 0\n",
    "\n",
    "            time.sleep(page_fail_wait)\n",
    "\n",
    "    return tweets\n",
    "\n",
    "def get_collection(twitter_client, name):\n",
    "\n",
    "    tweets = retrieve_comments(twitter_client, name)\n",
    "\n",
    "    collection = {\n",
    "        \"collection_name\": name,\n",
    "        \"tweets\": tweets,\n",
    "        \"date\": datetime.datetime.now().isoformat()\n",
    "    }\n",
    "\n",
    "    return collection"
   ],
   "metadata": {
    "collapsed": false,
    "pycharm": {
     "name": "#%%\n"
    }
   }
  },
  {
   "cell_type": "code",
   "execution_count": null,
   "outputs": [],
   "source": [
    "def get_collection_path(collection_dir, name):\n",
    "    return os.path.join(collection_dir, \"{}.json\".format(name))\n",
    "\n",
    "def get_collections(names):\n",
    "\n",
    "    twitter_client = None\n",
    "    collections = {}\n",
    "\n",
    "    os.makedirs(collections_dir, exist_ok=True)\n",
    "\n",
    "    for collection_name in names:\n",
    "\n",
    "        collection_filename = get_collection_path(collections_dir, collection_name)\n",
    "\n",
    "        if os.path.isfile(collection_filename):\n",
    "            # read collection\n",
    "            print(\"Using saved collection: {}\".format(collection_filename))\n",
    "            with open(collection_filename) as collection_file:\n",
    "                collection = json.load(collection_file)\n",
    "\n",
    "            print(\"  Tweets: {}\".format(len(collection[\"tweets\"])))\n",
    "\n",
    "        else:\n",
    "            # retrieve collection\n",
    "\n",
    "            if not twitter_client:\n",
    "                twitter_auth = tweepy.AppAuthHandler(twitter_api_key, twitter_api_secret)\n",
    "                twitter_client = tweepy.API(twitter_auth)\n",
    "\n",
    "            collection = get_collection(twitter_client, collection_name)\n",
    "\n",
    "            print(\"Saving collection: {}\".format(collection_filename))\n",
    "            with open(collection_filename, \"w\") as collection_file:\n",
    "                json.dump(collection, collection_file)\n",
    "\n",
    "        collections[collection_name] = collection\n",
    "\n",
    "    return collections"
   ],
   "metadata": {
    "collapsed": false,
    "pycharm": {
     "name": "#%%\n"
    }
   }
  }
 ],
 "metadata": {
  "kernelspec": {
   "display_name": "Python 3",
   "language": "python",
   "name": "python3"
  },
  "language_info": {
   "codemirror_mode": {
    "name": "ipython",
    "version": 2
   },
   "file_extension": ".py",
   "mimetype": "text/x-python",
   "name": "python",
   "nbconvert_exporter": "python",
   "pygments_lexer": "ipython2",
   "version": "2.7.6"
  }
 },
 "nbformat": 4,
 "nbformat_minor": 0
}