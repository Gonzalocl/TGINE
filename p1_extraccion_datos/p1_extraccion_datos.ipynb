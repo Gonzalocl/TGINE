{
 "cells": [
  {
   "cell_type": "markdown",
   "metadata": {
    "collapsed": true,
    "pycharm": {
     "name": "#%% md\n"
    }
   },
   "source": [
    "# PRACTICA 1: Extracción de datos de una red social"
   ]
  },
  {
   "cell_type": "code",
   "execution_count": null,
   "outputs": [],
   "source": [
    "%%bash\n",
    "\n",
    "CLIENT_ID=\"\"\n",
    "CLIENT_SECRET=\"\"\n",
    "\n",
    "echo \"\n",
    "\n",
    "[tgine]\n",
    "client_id=$CLIENT_ID\n",
    "client_secret=$CLIENT_SECRET\n",
    "\" >> praw.ini"
   ],
   "metadata": {
    "collapsed": false,
    "pycharm": {
     "name": "#%%\n"
    }
   }
  },
  {
   "cell_type": "code",
   "execution_count": null,
   "outputs": [],
   "source": [
    "import praw"
   ],
   "metadata": {
    "collapsed": false,
    "pycharm": {
     "name": "#%%\n"
    }
   }
  },
  {
   "cell_type": "code",
   "execution_count": null,
   "outputs": [],
   "source": [
    "subreddit_display_name = \"science\"\n",
    "reddit_client = praw.Reddit(\"tgine\", user_agent=\"python:com.example.gonzalocl1024.tgine:v0.1 (by /u/gonzalocl1024)\")\n",
    "subreddit = reddit_client.subreddit(subreddit_display_name)\n",
    "print(subreddit.title)\n",
    "vars(subreddit)"
   ],
   "metadata": {
    "collapsed": false,
    "pycharm": {
     "name": "#%%\n"
    }
   }
  }
 ],
 "metadata": {
  "kernelspec": {
   "display_name": "Python 3",
   "language": "python",
   "name": "python3"
  },
  "language_info": {
   "codemirror_mode": {
    "name": "ipython",
    "version": 2
   },
   "file_extension": ".py",
   "mimetype": "text/x-python",
   "name": "python",
   "nbconvert_exporter": "python",
   "pygments_lexer": "ipython2",
   "version": "2.7.6"
  }
 },
 "nbformat": 4,
 "nbformat_minor": 0
}